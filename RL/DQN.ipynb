{
 "cells": [
  {
   "cell_type": "code",
   "execution_count": 1,
   "metadata": {},
   "outputs": [],
   "source": [
    "import torch.nn as nn\n",
    "import torch.nn.functional as F\n",
    "\n",
    "#### Q网络\n",
    "class MLP(nn.Module):\n",
    "    def __init__(self, n_states, n_actions, hidden_dim = 128):\n",
    "        super(MLP, self).__init__()\n",
    "        self.fc1 = nn.Linear(n_states,hidden_dim)\n",
    "        self,fc2 = nn.Linear(hidden_dim,hidden_dim)\n",
    "        self.fc3 == nn.Linear(hidden_dim,n_actions)\n",
    "    \n",
    "    def forward(self,x):\n",
    "        x = F.relu(self.fc1(x))\n",
    "        x = F.relu(self.fc2(x))\n",
    "        return self.fc3(x)\n",
    "    \n",
    "\n"
   ]
  },
  {
   "cell_type": "code",
   "execution_count": 2,
   "metadata": {},
   "outputs": [],
   "source": [
    "### replay buffer\n",
    "from collections import deque\n",
    "import random\n",
    "\n",
    "class ReplayBuffer(object):\n",
    "    def __init__(self, capacity: int) -> None:\n",
    "        self.capacity = capacity\n",
    "        self.buffer = deque(maxlen=self.capacity)\n",
    "    def push(self,transitions):\n",
    "        #### 储存经验\n",
    "        self.buffer.append(transitions)\n",
    "    def sample(self,batch_size:int, sequential:bool = False):\n",
    "        if batch_size > len(self.buffer): \n",
    "            batch_size = len(self.buffer)\n",
    "        if sequential:\n",
    "            rand = random.randint(0,len(self.buffer) - batch_size)\n",
    "            batch = [self.buffer[i] for i in range (rand,rand + batch_size)]\n",
    "            return zip(*batch) ### 把元素打包成一个个元组\n",
    "        else:\n",
    "            batch = random.sample(self.buffer, batch_size)\n",
    "            return zip(*batch)\n",
    "    def clear(self):\n",
    "        self.buffer.clear()\n",
    "    def __len__(self):\n",
    "        return len(self.buffer)\n",
    "    \n",
    "        \n"
   ]
  }
 ],
 "metadata": {
  "kernelspec": {
   "display_name": "Python 3",
   "language": "python",
   "name": "python3"
  },
  "language_info": {
   "codemirror_mode": {
    "name": "ipython",
    "version": 3
   },
   "file_extension": ".py",
   "mimetype": "text/x-python",
   "name": "python",
   "nbconvert_exporter": "python",
   "pygments_lexer": "ipython3",
   "version": "3.9.16"
  },
  "orig_nbformat": 4
 },
 "nbformat": 4,
 "nbformat_minor": 2
}
